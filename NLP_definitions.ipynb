{
 "cells": [
  {
   "cell_type": "code",
   "execution_count": 2,
   "id": "8997baf9",
   "metadata": {},
   "outputs": [
    {
     "name": "stdout",
     "output_type": "stream",
     "text": [
      "Processing: sandwich\n",
      "Error with request: 400\n",
      "Processing: burger\n",
      "Error with request: 400\n",
      "Processing: taco\n",
      "Error with request: 400\n",
      "Processing: pizza\n",
      "Error with request: 400\n",
      "Processing: hotdog\n",
      "Error with request: 400\n",
      "Definitions saved to food_definitions.csv\n"
     ]
    }
   ],
   "source": [
    "import wikipediaapi\n",
    "import requests\n",
    "import pandas as pd\n",
    "\n",
    "# Set up API keys\n",
    "api_key = \"a96fbd2b395ad777d903a9ec28f98aec60b448af\"  # Your actual API key\n",
    "cse_id = \"864a93c8f6ec84bec\"  # Your actual Custom Search Engine ID\n",
    "\n",
    "# Custom User-Agent for Wikipedia requests\n",
    "user_agent = \"IsAHotDogASandwich/1.0 (https://github.com/S-Milzy/DATA602_FoodClassification; smille30@umd.edu)\"\n",
    "\n",
    "def get_wikipedia_summary(food_item):\n",
    "    \"\"\"Retrieve Wikipedia summary for a food item.\"\"\"\n",
    "    # Create Wikipedia object with a User-Agent\n",
    "    wiki_wiki = wikipediaapi.Wikipedia('en', headers={'User-Agent': user_agent})\n",
    "    page = wiki_wiki.page(food_item)\n",
    "    \n",
    "    if page.exists():\n",
    "        return page.summary\n",
    "    else:\n",
    "        return None\n",
    "\n",
    "def get_google_search_definition(food_item, api_key, cse_id):\n",
    "    \"\"\"Retrieve search result snippets from Google Custom Search API.\"\"\"\n",
    "    search_url = f\"https://www.googleapis.com/customsearch/v1?q={food_item} definition&key={api_key}&cx={cse_id}\"\n",
    "    response = requests.get(search_url)\n",
    "    \n",
    "    if response.status_code == 200:\n",
    "        results = response.json()\n",
    "        if 'items' in results:\n",
    "            return results['items'][0]['snippet']\n",
    "        else:\n",
    "            return None\n",
    "    else:\n",
    "        print(f\"Error with request: {response.status_code}\")\n",
    "        return None\n",
    "\n",
    "def create_definitions_file(food_items):\n",
    "    \"\"\"Generate a CSV file of food definitions.\"\"\"\n",
    "    definitions = []\n",
    "    for food in food_items:\n",
    "        print(f\"Processing: {food}\")\n",
    "        \n",
    "        # Get Wikipedia summary\n",
    "        wiki_summary = get_wikipedia_summary(food)\n",
    "        \n",
    "        # Get Google search snippet\n",
    "        google_snippet = get_google_search_definition(food, api_key, cse_id)\n",
    "        \n",
    "        # Use the Wikipedia summary if available, otherwise use Google snippet\n",
    "        if wiki_summary:\n",
    "            definition = wiki_summary\n",
    "        elif google_snippet:\n",
    "            definition = google_snippet\n",
    "        else:\n",
    "            definition = \"No definition found.\"\n",
    "        \n",
    "        # Append result to the list\n",
    "        definitions.append({'food_name': food, 'definition': definition})\n",
    "    \n",
    "    # Save to CSV\n",
    "    df = pd.DataFrame(definitions)\n",
    "    df.to_csv('food_definitions.csv', index=False)\n",
    "    print(\"Definitions saved to food_definitions.csv\")\n",
    "\n",
    "# Example food items\n",
    "food_items = ['sandwich', 'burger', 'taco', 'pizza', 'hotdog']\n",
    "create_definitions_file(food_items)\n"
   ]
  },
  {
   "cell_type": "code",
   "execution_count": null,
   "id": "6c4b90c6",
   "metadata": {},
   "outputs": [],
   "source": []
  }
 ],
 "metadata": {
  "kernelspec": {
   "display_name": "Python 3 (ipykernel)",
   "language": "python",
   "name": "python3"
  },
  "language_info": {
   "codemirror_mode": {
    "name": "ipython",
    "version": 3
   },
   "file_extension": ".py",
   "mimetype": "text/x-python",
   "name": "python",
   "nbconvert_exporter": "python",
   "pygments_lexer": "ipython3",
   "version": "3.9.13"
  }
 },
 "nbformat": 4,
 "nbformat_minor": 5
}
